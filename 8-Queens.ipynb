{
 "cells": [
  {
   "cell_type": "code",
   "execution_count": 1,
   "id": "3f4e07fb",
   "metadata": {},
   "outputs": [
    {
     "name": "stdout",
     "output_type": "stream",
     "text": [
      "8-Queens Solution with the first queen at position (0, 0):\n",
      "Q . . . . . . .\n",
      ". . . . Q . . .\n",
      ". . . . . . . Q\n",
      ". . . . . Q . .\n",
      ". . Q . . . . .\n",
      ". . . . . . Q .\n",
      ". Q . . . . . .\n",
      ". . . Q . . . .\n"
     ]
    }
   ],
   "source": [
    "# Function to check if a queen can be placed on board[row][col]\n",
    "def is_safe(board, row, col):\n",
    "    # Check the column\n",
    "    for i in range(row):\n",
    "        if board[i][col] == 1:\n",
    "            return False\n",
    "\n",
    "    # Check the upper left diagonal\n",
    "    i, j = row, col\n",
    "    while i >= 0 and j >= 0:\n",
    "        if board[i][j] == 1:\n",
    "            return False\n",
    "        i -= 1\n",
    "        j -= 1\n",
    "\n",
    "    # Check the upper right diagonal\n",
    "    i, j = row, col\n",
    "    while i >= 0 and j < len(board):\n",
    "        if board[i][j] == 1:\n",
    "            return False\n",
    "        i -= 1\n",
    "        j += 1\n",
    "\n",
    "    return True\n",
    "\n",
    "# Backtracking function to solve the N-Queens problem\n",
    "def solve_n_queens(board, row):\n",
    "    n = len(board)\n",
    "    if row >= n:\n",
    "        return True  # All queens are placed successfully\n",
    "\n",
    "    for col in range(n):\n",
    "        # If placing queen at board[row][col] is safe, place it\n",
    "        if is_safe(board, row, col):\n",
    "            board[row][col] = 1  # Place the queen\n",
    "\n",
    "            # Recursively place the remaining queens\n",
    "            if solve_n_queens(board, row + 1):\n",
    "                return True\n",
    "\n",
    "            # Backtrack: Remove the queen if placement leads to no solution\n",
    "            board[row][col] = 0\n",
    "\n",
    "    return False  # No solution exists by placing queen in this row\n",
    "\n",
    "# Function to initialize the board with the first queen in a specific position\n",
    "def solve_8_queens_with_first_queen(first_row=0, first_col=0):\n",
    "    n = 8  # Size of the board\n",
    "    board = [[0 for _ in range(n)] for _ in range(n)]\n",
    "    board[first_row][first_col] = 1  # Place the first queen\n",
    "\n",
    "    # Attempt to place the remaining queens starting from the next row\n",
    "    if solve_n_queens(board, first_row + 1):\n",
    "        return board  # Return the solution if successful\n",
    "    else:\n",
    "        return None  # No solution found\n",
    "\n",
    "# Display the solution board\n",
    "def print_board(board):\n",
    "    if board:\n",
    "        for row in board:\n",
    "            print(\" \".join(\"Q\" if x == 1 else \".\" for x in row))\n",
    "    else:\n",
    "        print(\"No solution found.\")\n",
    "\n",
    "# Example usage\n",
    "first_row, first_col = 0, 0  # Starting position of the first queen\n",
    "board = solve_8_queens_with_first_queen(first_row, first_col)\n",
    "print(\"8-Queens Solution with the first queen at position (0, 0):\")\n",
    "print_board(board)\n"
   ]
  },
  {
   "cell_type": "code",
   "execution_count": null,
   "id": "a1a41dc2",
   "metadata": {},
   "outputs": [],
   "source": []
  }
 ],
 "metadata": {
  "kernelspec": {
   "display_name": "Python 3 (ipykernel)",
   "language": "python",
   "name": "python3"
  },
  "language_info": {
   "codemirror_mode": {
    "name": "ipython",
    "version": 3
   },
   "file_extension": ".py",
   "mimetype": "text/x-python",
   "name": "python",
   "nbconvert_exporter": "python",
   "pygments_lexer": "ipython3",
   "version": "3.11.4"
  }
 },
 "nbformat": 4,
 "nbformat_minor": 5
}
