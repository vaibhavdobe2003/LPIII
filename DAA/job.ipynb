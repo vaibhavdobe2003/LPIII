{
 "cells": [
  {
   "cell_type": "code",
   "execution_count": 1,
   "id": "8838205e",
   "metadata": {},
   "outputs": [
    {
     "name": "stdout",
     "output_type": "stream",
     "text": [
      "Scheduled Jobs: ['J1', 'J3', 'J5']\n",
      "Total Profit: 142\n"
     ]
    }
   ],
   "source": [
    "# Define a Job class to store details of each job\n",
    "class Job:\n",
    "    def __init__(self, job_id, deadline, profit):\n",
    "        self.job_id = job_id\n",
    "        self.deadline = deadline\n",
    "        self.profit = profit\n",
    "\n",
    "# Function to schedule jobs and maximize profit\n",
    "def job_sequencing(jobs, max_deadline):\n",
    "    # Sort jobs in descending order of profit\n",
    "    jobs.sort(key=lambda x: x.profit, reverse=True)\n",
    "\n",
    "    # Array to keep track of free time slots\n",
    "    result = [-1] * max_deadline\n",
    "\n",
    "    # Keep track of the total profit\n",
    "    total_profit = 0\n",
    "    scheduled_jobs = []\n",
    "\n",
    "    # Iterate over sorted jobs\n",
    "    for job in jobs:\n",
    "        # Try to find a free slot for this job (starting from its deadline)\n",
    "        for j in range(min(max_deadline, job.deadline) - 1, -1, -1):\n",
    "            if result[j] == -1:\n",
    "                # Assign this job to the free slot\n",
    "                result[j] = job.job_id\n",
    "                total_profit += job.profit\n",
    "                scheduled_jobs.append(job.job_id)\n",
    "                break\n",
    "\n",
    "    return scheduled_jobs, total_profit\n",
    "\n",
    "# Example usage\n",
    "jobs = [\n",
    "    Job('J1', 2, 100),\n",
    "    Job('J2', 1, 19),\n",
    "    Job('J3', 2, 27),\n",
    "    Job('J4', 1, 25),\n",
    "    Job('J5', 3, 15)\n",
    "]\n",
    "\n",
    "# Calculate the maximum deadline for jobs\n",
    "max_deadline = max(job.deadline for job in jobs)\n",
    "\n",
    "scheduled_jobs, total_profit = job_sequencing(jobs, max_deadline)\n",
    "\n",
    "print(\"Scheduled Jobs:\", scheduled_jobs)\n",
    "print(\"Total Profit:\", total_profit)\n"
   ]
  },
  {
   "cell_type": "code",
   "execution_count": null,
   "id": "25901692",
   "metadata": {},
   "outputs": [],
   "source": []
  }
 ],
 "metadata": {
  "kernelspec": {
   "display_name": "Python 3 (ipykernel)",
   "language": "python",
   "name": "python3"
  },
  "language_info": {
   "codemirror_mode": {
    "name": "ipython",
    "version": 3
   },
   "file_extension": ".py",
   "mimetype": "text/x-python",
   "name": "python",
   "nbconvert_exporter": "python",
   "pygments_lexer": "ipython3",
   "version": "3.11.4"
  }
 },
 "nbformat": 4,
 "nbformat_minor": 5
}
