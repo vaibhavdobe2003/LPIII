{
 "cells": [
  {
   "cell_type": "code",
   "execution_count": 1,
   "id": "3fd980f7",
   "metadata": {},
   "outputs": [
    {
     "name": "stdout",
     "output_type": "stream",
     "text": [
      "Enter the Fibonacci number to calculate: 5\n",
      "Fibonacci number for 5 is 5\n",
      "Step count for Fibonacci(5) calculation is 15\n"
     ]
    }
   ],
   "source": [
    "# Function to calculate Fibonacci numbers and count steps\n",
    "def fibonacci_with_steps(n, step_count=[0]):\n",
    "    # Increment step count\n",
    "    step_count[0] += 1\n",
    "    \n",
    "    # Base cases\n",
    "    if n == 0:\n",
    "        return 0\n",
    "    elif n == 1:\n",
    "        return 1\n",
    "    else:\n",
    "        # Recursive calculation\n",
    "        return fibonacci_with_steps(n-1, step_count) + fibonacci_with_steps(n-2, step_count)\n",
    "\n",
    "# Main function to get Fibonacci number and step count\n",
    "def fibonacci(n):\n",
    "    step_count = [0]  # List to hold step count\n",
    "    fib_num = fibonacci_with_steps(n, step_count)\n",
    "    return fib_num, step_count[0]\n",
    "\n",
    "# Test the function\n",
    "n = int(input(\"Enter the Fibonacci number to calculate: \"))\n",
    "fib_num, steps = fibonacci(n)\n",
    "print(f\"Fibonacci number for {n} is {fib_num}\")\n",
    "print(f\"Step count for Fibonacci({n}) calculation is {steps}\")\n"
   ]
  },
  {
   "cell_type": "code",
   "execution_count": null,
   "id": "eb0ba629",
   "metadata": {},
   "outputs": [],
   "source": []
  }
 ],
 "metadata": {
  "kernelspec": {
   "display_name": "Python 3 (ipykernel)",
   "language": "python",
   "name": "python3"
  },
  "language_info": {
   "codemirror_mode": {
    "name": "ipython",
    "version": 3
   },
   "file_extension": ".py",
   "mimetype": "text/x-python",
   "name": "python",
   "nbconvert_exporter": "python",
   "pygments_lexer": "ipython3",
   "version": "3.11.4"
  }
 },
 "nbformat": 4,
 "nbformat_minor": 5
}
