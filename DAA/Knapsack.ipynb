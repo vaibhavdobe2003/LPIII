{
 "cells": [
  {
   "cell_type": "code",
   "execution_count": 1,
   "id": "e4546651",
   "metadata": {},
   "outputs": [
    {
     "name": "stdout",
     "output_type": "stream",
     "text": [
      "Maximum value in the knapsack: 240.0\n"
     ]
    }
   ],
   "source": [
    "# Define a class for each item with weight and value\n",
    "class Item:\n",
    "    def __init__(self, value, weight):\n",
    "        self.value = value\n",
    "        self.weight = weight\n",
    "\n",
    "# Function to calculate maximum value using greedy approach\n",
    "def fractional_knapsack(items, capacity):\n",
    "    # Sort items based on value-to-weight ratio in descending order\n",
    "    items.sort(key=lambda x: x.value / x.weight, reverse=True)\n",
    "\n",
    "    total_value = 0.0  # Total value in the knapsack\n",
    "    remaining_capacity = capacity\n",
    "\n",
    "    # Loop through sorted items\n",
    "    for item in items:\n",
    "        if remaining_capacity == 0:\n",
    "            break  # Stop if the knapsack is full\n",
    "\n",
    "        if item.weight <= remaining_capacity:\n",
    "            # Take the whole item if it fits\n",
    "            total_value += item.value\n",
    "            remaining_capacity -= item.weight\n",
    "        else:\n",
    "            # Take the fractional part of the item\n",
    "            fraction = remaining_capacity / item.weight\n",
    "            total_value += item.value * fraction\n",
    "            remaining_capacity = 0  # Knapsack is now full\n",
    "\n",
    "    return total_value\n",
    "\n",
    "# Example usage\n",
    "items = [\n",
    "    Item(60, 10),\n",
    "    Item(100, 20),\n",
    "    Item(120, 30)\n",
    "]\n",
    "capacity = 50\n",
    "\n",
    "max_value = fractional_knapsack(items, capacity)\n",
    "print(\"Maximum value in the knapsack:\", max_value)\n"
   ]
  },
  {
   "cell_type": "code",
   "execution_count": null,
   "id": "f5934046",
   "metadata": {},
   "outputs": [],
   "source": []
  }
 ],
 "metadata": {
  "kernelspec": {
   "display_name": "Python 3 (ipykernel)",
   "language": "python",
   "name": "python3"
  },
  "language_info": {
   "codemirror_mode": {
    "name": "ipython",
    "version": 3
   },
   "file_extension": ".py",
   "mimetype": "text/x-python",
   "name": "python",
   "nbconvert_exporter": "python",
   "pygments_lexer": "ipython3",
   "version": "3.11.4"
  }
 },
 "nbformat": 4,
 "nbformat_minor": 5
}
