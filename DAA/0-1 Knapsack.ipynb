{
 "cells": [
  {
   "cell_type": "code",
   "execution_count": 1,
   "id": "52bc4e21",
   "metadata": {},
   "outputs": [
    {
     "name": "stdout",
     "output_type": "stream",
     "text": [
      "Maximum value in the knapsack: 220\n"
     ]
    }
   ],
   "source": [
    "# Function to solve 0-1 Knapsack problem using dynamic programming\n",
    "def knapsack(values, weights, capacity):\n",
    "    n = len(values)\n",
    "    # Create a 2D DP table to store the maximum values at each n-th item and capacity w\n",
    "    dp = [[0 for _ in range(capacity + 1)] for _ in range(n + 1)]\n",
    "\n",
    "    # Build the DP table in a bottom-up manner\n",
    "    for i in range(1, n + 1):  # Loop through each item\n",
    "        for w in range(1, capacity + 1):  # Loop through each capacity\n",
    "            if weights[i-1] <= w:\n",
    "                # If the item can fit in the knapsack, decide to take it or leave it\n",
    "                dp[i][w] = max(dp[i-1][w], dp[i-1][w-weights[i-1]] + values[i-1])\n",
    "            else:\n",
    "                # If the item can't fit, skip it\n",
    "                dp[i][w] = dp[i-1][w]\n",
    "\n",
    "    # The bottom-right corner of the table contains the maximum value\n",
    "    return dp[n][capacity]\n",
    "\n",
    "# Example usage\n",
    "values = [60, 100, 120]\n",
    "weights = [10, 20, 30]\n",
    "capacity = 50\n",
    "\n",
    "max_value = knapsack(values, weights, capacity)\n",
    "print(\"Maximum value in the knapsack:\", max_value)\n"
   ]
  },
  {
   "cell_type": "code",
   "execution_count": null,
   "id": "d7861db9",
   "metadata": {},
   "outputs": [],
   "source": []
  }
 ],
 "metadata": {
  "kernelspec": {
   "display_name": "Python 3 (ipykernel)",
   "language": "python",
   "name": "python3"
  },
  "language_info": {
   "codemirror_mode": {
    "name": "ipython",
    "version": 3
   },
   "file_extension": ".py",
   "mimetype": "text/x-python",
   "name": "python",
   "nbconvert_exporter": "python",
   "pygments_lexer": "ipython3",
   "version": "3.11.4"
  }
 },
 "nbformat": 4,
 "nbformat_minor": 5
}
