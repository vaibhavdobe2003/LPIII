{
 "cells": [
  {
   "cell_type": "code",
   "execution_count": 1,
   "id": "90faedf6",
   "metadata": {},
   "outputs": [
    {
     "name": "stdout",
     "output_type": "stream",
     "text": [
      "Binomial coefficient C(5, 2) is 10\n"
     ]
    }
   ],
   "source": [
    "# Function to calculate binomial coefficient C(n, k) using dynamic programming\n",
    "def binomial_coefficient(n, k):\n",
    "    # Initialize a 2D table to store binomial coefficients\n",
    "    dp = [[0 for _ in range(k + 1)] for _ in range(n + 1)]\n",
    "\n",
    "    # Fill in the table in a bottom-up manner\n",
    "    for i in range(n + 1):\n",
    "        for j in range(min(i, k) + 1):\n",
    "            # Base cases: C(i, 0) = 1 and C(i, i) = 1\n",
    "            if j == 0 or j == i:\n",
    "                dp[i][j] = 1\n",
    "            else:\n",
    "                # Use the recurrence relation: C(i, j) = C(i-1, j-1) + C(i-1, j)\n",
    "                dp[i][j] = dp[i - 1][j - 1] + dp[i - 1][j]\n",
    "\n",
    "    return dp[n][k]\n",
    "\n",
    "# Example usage\n",
    "n = 5\n",
    "k = 2\n",
    "print(f\"Binomial coefficient C({n}, {k}) is {binomial_coefficient(n, k)}\")\n"
   ]
  },
  {
   "cell_type": "code",
   "execution_count": null,
   "id": "07b1f0a3",
   "metadata": {},
   "outputs": [],
   "source": []
  }
 ],
 "metadata": {
  "kernelspec": {
   "display_name": "Python 3 (ipykernel)",
   "language": "python",
   "name": "python3"
  },
  "language_info": {
   "codemirror_mode": {
    "name": "ipython",
    "version": 3
   },
   "file_extension": ".py",
   "mimetype": "text/x-python",
   "name": "python",
   "nbconvert_exporter": "python",
   "pygments_lexer": "ipython3",
   "version": "3.11.4"
  }
 },
 "nbformat": 4,
 "nbformat_minor": 5
}
